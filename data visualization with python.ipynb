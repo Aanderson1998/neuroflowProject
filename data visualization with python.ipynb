{
 "cells": [
  {
   "cell_type": "code",
   "execution_count": 1,
   "metadata": {},
   "outputs": [],
   "source": [
    "import pandas as pd\n",
    "import numpy as np\n",
    "import datetime\n",
    "from matplotlib import pyplot as plt"
   ]
  },
  {
   "cell_type": "code",
   "execution_count": 2,
   "metadata": {},
   "outputs": [
    {
     "data": {
      "text/html": [
       "<div>\n",
       "<style scoped>\n",
       "    .dataframe tbody tr th:only-of-type {\n",
       "        vertical-align: middle;\n",
       "    }\n",
       "\n",
       "    .dataframe tbody tr th {\n",
       "        vertical-align: top;\n",
       "    }\n",
       "\n",
       "    .dataframe thead th {\n",
       "        text-align: right;\n",
       "    }\n",
       "</style>\n",
       "<table border=\"1\" class=\"dataframe\">\n",
       "  <thead>\n",
       "    <tr style=\"text-align: right;\">\n",
       "      <th></th>\n",
       "      <th>date</th>\n",
       "      <th>user_id</th>\n",
       "      <th>type</th>\n",
       "      <th>value</th>\n",
       "    </tr>\n",
       "  </thead>\n",
       "  <tbody>\n",
       "    <tr>\n",
       "      <td>0</td>\n",
       "      <td>2019-06-08 23:19:34.418000+00:00</td>\n",
       "      <td>61</td>\n",
       "      <td>mood</td>\n",
       "      <td>2.76</td>\n",
       "    </tr>\n",
       "    <tr>\n",
       "      <td>1</td>\n",
       "      <td>2019-06-13 16:33:34.399000+00:00</td>\n",
       "      <td>26</td>\n",
       "      <td>sleep</td>\n",
       "      <td>2.44</td>\n",
       "    </tr>\n",
       "    <tr>\n",
       "      <td>2</td>\n",
       "      <td>2018-12-26 14:24:00.436000+00:00</td>\n",
       "      <td>10</td>\n",
       "      <td>sleep</td>\n",
       "      <td>1.88</td>\n",
       "    </tr>\n",
       "    <tr>\n",
       "      <td>3</td>\n",
       "      <td>2019-07-17 20:11:23.792000+00:00</td>\n",
       "      <td>33</td>\n",
       "      <td>mood</td>\n",
       "      <td>2.20</td>\n",
       "    </tr>\n",
       "    <tr>\n",
       "      <td>4</td>\n",
       "      <td>2019-05-09 17:27:50.900000+00:00</td>\n",
       "      <td>17</td>\n",
       "      <td>mood</td>\n",
       "      <td>4.00</td>\n",
       "    </tr>\n",
       "  </tbody>\n",
       "</table>\n",
       "</div>"
      ],
      "text/plain": [
       "                              date  user_id   type  value\n",
       "0 2019-06-08 23:19:34.418000+00:00       61   mood   2.76\n",
       "1 2019-06-13 16:33:34.399000+00:00       26  sleep   2.44\n",
       "2 2018-12-26 14:24:00.436000+00:00       10  sleep   1.88\n",
       "3 2019-07-17 20:11:23.792000+00:00       33   mood   2.20\n",
       "4 2019-05-09 17:27:50.900000+00:00       17   mood   4.00"
      ]
     },
     "execution_count": 2,
     "metadata": {},
     "output_type": "execute_result"
    }
   ],
   "source": [
    "df=pd.read_csv('subj_measures.csv')\n",
    "df['date']=pd.to_datetime(df['date'])\n",
    "df.head()"
   ]
  },
  {
   "cell_type": "code",
   "execution_count": 3,
   "metadata": {},
   "outputs": [
    {
     "name": "stderr",
     "output_type": "stream",
     "text": [
      "/Users/aryannaanderson/opt/anaconda3/lib/python3.7/site-packages/pandas/core/arrays/datetimes.py:1269: UserWarning: Converting to PeriodArray/Index representation will drop timezone information.\n",
      "  UserWarning,\n"
     ]
    }
   ],
   "source": [
    "df['month_year'] = pd.to_datetime(df['date']).dt.to_period('M')"
   ]
  },
  {
   "cell_type": "code",
   "execution_count": 4,
   "metadata": {},
   "outputs": [
    {
     "data": {
      "text/html": [
       "<div>\n",
       "<style scoped>\n",
       "    .dataframe tbody tr th:only-of-type {\n",
       "        vertical-align: middle;\n",
       "    }\n",
       "\n",
       "    .dataframe tbody tr th {\n",
       "        vertical-align: top;\n",
       "    }\n",
       "\n",
       "    .dataframe thead th {\n",
       "        text-align: right;\n",
       "    }\n",
       "</style>\n",
       "<table border=\"1\" class=\"dataframe\">\n",
       "  <thead>\n",
       "    <tr style=\"text-align: right;\">\n",
       "      <th></th>\n",
       "      <th>date</th>\n",
       "      <th>user_id</th>\n",
       "      <th>type</th>\n",
       "      <th>value</th>\n",
       "      <th>month_year</th>\n",
       "    </tr>\n",
       "  </thead>\n",
       "  <tbody>\n",
       "    <tr>\n",
       "      <td>0</td>\n",
       "      <td>2019-06-08 23:19:34.418000+00:00</td>\n",
       "      <td>61</td>\n",
       "      <td>mood</td>\n",
       "      <td>2.760000</td>\n",
       "      <td>2019-06</td>\n",
       "    </tr>\n",
       "    <tr>\n",
       "      <td>3</td>\n",
       "      <td>2019-07-17 20:11:23.792000+00:00</td>\n",
       "      <td>33</td>\n",
       "      <td>mood</td>\n",
       "      <td>2.200000</td>\n",
       "      <td>2019-07</td>\n",
       "    </tr>\n",
       "    <tr>\n",
       "      <td>4</td>\n",
       "      <td>2019-05-09 17:27:50.900000+00:00</td>\n",
       "      <td>17</td>\n",
       "      <td>mood</td>\n",
       "      <td>4.000000</td>\n",
       "      <td>2019-05</td>\n",
       "    </tr>\n",
       "    <tr>\n",
       "      <td>5</td>\n",
       "      <td>2019-06-10 13:10:49.616000+00:00</td>\n",
       "      <td>62</td>\n",
       "      <td>mood</td>\n",
       "      <td>2.581280</td>\n",
       "      <td>2019-06</td>\n",
       "    </tr>\n",
       "    <tr>\n",
       "      <td>6</td>\n",
       "      <td>2018-09-13 15:25:14.822000+00:00</td>\n",
       "      <td>39</td>\n",
       "      <td>mood</td>\n",
       "      <td>2.455785</td>\n",
       "      <td>2018-09</td>\n",
       "    </tr>\n",
       "    <tr>\n",
       "      <td>...</td>\n",
       "      <td>...</td>\n",
       "      <td>...</td>\n",
       "      <td>...</td>\n",
       "      <td>...</td>\n",
       "      <td>...</td>\n",
       "    </tr>\n",
       "    <tr>\n",
       "      <td>7445</td>\n",
       "      <td>2019-07-14 13:59:20.131000+00:00</td>\n",
       "      <td>95</td>\n",
       "      <td>mood</td>\n",
       "      <td>2.304740</td>\n",
       "      <td>2019-07</td>\n",
       "    </tr>\n",
       "    <tr>\n",
       "      <td>7446</td>\n",
       "      <td>2019-07-01 09:43:52.968000+00:00</td>\n",
       "      <td>46</td>\n",
       "      <td>mood</td>\n",
       "      <td>2.920000</td>\n",
       "      <td>2019-07</td>\n",
       "    </tr>\n",
       "    <tr>\n",
       "      <td>7451</td>\n",
       "      <td>2018-09-22 19:01:34.580000+00:00</td>\n",
       "      <td>52</td>\n",
       "      <td>mood</td>\n",
       "      <td>2.259710</td>\n",
       "      <td>2018-09</td>\n",
       "    </tr>\n",
       "    <tr>\n",
       "      <td>7452</td>\n",
       "      <td>2019-03-19 12:12:52.137000+00:00</td>\n",
       "      <td>30</td>\n",
       "      <td>mood</td>\n",
       "      <td>3.640000</td>\n",
       "      <td>2019-03</td>\n",
       "    </tr>\n",
       "    <tr>\n",
       "      <td>7455</td>\n",
       "      <td>2018-12-07 12:57:21.049000+00:00</td>\n",
       "      <td>52</td>\n",
       "      <td>mood</td>\n",
       "      <td>2.340522</td>\n",
       "      <td>2018-12</td>\n",
       "    </tr>\n",
       "  </tbody>\n",
       "</table>\n",
       "<p>3397 rows × 5 columns</p>\n",
       "</div>"
      ],
      "text/plain": [
       "                                 date  user_id  type     value month_year\n",
       "0    2019-06-08 23:19:34.418000+00:00       61  mood  2.760000    2019-06\n",
       "3    2019-07-17 20:11:23.792000+00:00       33  mood  2.200000    2019-07\n",
       "4    2019-05-09 17:27:50.900000+00:00       17  mood  4.000000    2019-05\n",
       "5    2019-06-10 13:10:49.616000+00:00       62  mood  2.581280    2019-06\n",
       "6    2018-09-13 15:25:14.822000+00:00       39  mood  2.455785    2018-09\n",
       "...                               ...      ...   ...       ...        ...\n",
       "7445 2019-07-14 13:59:20.131000+00:00       95  mood  2.304740    2019-07\n",
       "7446 2019-07-01 09:43:52.968000+00:00       46  mood  2.920000    2019-07\n",
       "7451 2018-09-22 19:01:34.580000+00:00       52  mood  2.259710    2018-09\n",
       "7452 2019-03-19 12:12:52.137000+00:00       30  mood  3.640000    2019-03\n",
       "7455 2018-12-07 12:57:21.049000+00:00       52  mood  2.340522    2018-12\n",
       "\n",
       "[3397 rows x 5 columns]"
      ]
     },
     "execution_count": 4,
     "metadata": {},
     "output_type": "execute_result"
    }
   ],
   "source": [
    "mood_df=df.loc[(df['type']=='mood')]\n",
    "mood_df"
   ]
  },
  {
   "cell_type": "code",
   "execution_count": 5,
   "metadata": {},
   "outputs": [
    {
     "data": {
      "text/html": [
       "<div>\n",
       "<style scoped>\n",
       "    .dataframe tbody tr th:only-of-type {\n",
       "        vertical-align: middle;\n",
       "    }\n",
       "\n",
       "    .dataframe tbody tr th {\n",
       "        vertical-align: top;\n",
       "    }\n",
       "\n",
       "    .dataframe thead th {\n",
       "        text-align: right;\n",
       "    }\n",
       "</style>\n",
       "<table border=\"1\" class=\"dataframe\">\n",
       "  <thead>\n",
       "    <tr style=\"text-align: right;\">\n",
       "      <th></th>\n",
       "      <th>date</th>\n",
       "      <th>user_id</th>\n",
       "      <th>type</th>\n",
       "      <th>value</th>\n",
       "      <th>month_year</th>\n",
       "    </tr>\n",
       "  </thead>\n",
       "  <tbody>\n",
       "    <tr>\n",
       "      <td>1</td>\n",
       "      <td>2019-06-13 16:33:34.399000+00:00</td>\n",
       "      <td>26</td>\n",
       "      <td>sleep</td>\n",
       "      <td>2.440000</td>\n",
       "      <td>2019-06</td>\n",
       "    </tr>\n",
       "    <tr>\n",
       "      <td>2</td>\n",
       "      <td>2018-12-26 14:24:00.436000+00:00</td>\n",
       "      <td>10</td>\n",
       "      <td>sleep</td>\n",
       "      <td>1.880000</td>\n",
       "      <td>2018-12</td>\n",
       "    </tr>\n",
       "    <tr>\n",
       "      <td>7</td>\n",
       "      <td>2019-03-25 15:19:48.308000+00:00</td>\n",
       "      <td>51</td>\n",
       "      <td>sleep</td>\n",
       "      <td>1.480000</td>\n",
       "      <td>2019-03</td>\n",
       "    </tr>\n",
       "    <tr>\n",
       "      <td>11</td>\n",
       "      <td>2019-05-24 15:32:00.593000+00:00</td>\n",
       "      <td>49</td>\n",
       "      <td>sleep</td>\n",
       "      <td>2.040000</td>\n",
       "      <td>2019-05</td>\n",
       "    </tr>\n",
       "    <tr>\n",
       "      <td>14</td>\n",
       "      <td>2019-07-16 18:19:06.953000+00:00</td>\n",
       "      <td>79</td>\n",
       "      <td>sleep</td>\n",
       "      <td>3.360000</td>\n",
       "      <td>2019-07</td>\n",
       "    </tr>\n",
       "    <tr>\n",
       "      <td>...</td>\n",
       "      <td>...</td>\n",
       "      <td>...</td>\n",
       "      <td>...</td>\n",
       "      <td>...</td>\n",
       "      <td>...</td>\n",
       "    </tr>\n",
       "    <tr>\n",
       "      <td>7453</td>\n",
       "      <td>2019-05-26 19:50:44.235000+00:00</td>\n",
       "      <td>64</td>\n",
       "      <td>sleep</td>\n",
       "      <td>2.258863</td>\n",
       "      <td>2019-05</td>\n",
       "    </tr>\n",
       "    <tr>\n",
       "      <td>7456</td>\n",
       "      <td>2019-03-28 16:36:18.190000+00:00</td>\n",
       "      <td>10</td>\n",
       "      <td>sleep</td>\n",
       "      <td>3.080000</td>\n",
       "      <td>2019-03</td>\n",
       "    </tr>\n",
       "    <tr>\n",
       "      <td>7457</td>\n",
       "      <td>2019-01-11 18:44:05.923000+00:00</td>\n",
       "      <td>33</td>\n",
       "      <td>sleep</td>\n",
       "      <td>4.000000</td>\n",
       "      <td>2019-01</td>\n",
       "    </tr>\n",
       "    <tr>\n",
       "      <td>7458</td>\n",
       "      <td>2019-04-08 11:55:24.645000+00:00</td>\n",
       "      <td>58</td>\n",
       "      <td>sleep</td>\n",
       "      <td>1.370334</td>\n",
       "      <td>2019-04</td>\n",
       "    </tr>\n",
       "    <tr>\n",
       "      <td>7459</td>\n",
       "      <td>2019-03-18 14:04:42.114000+00:00</td>\n",
       "      <td>80</td>\n",
       "      <td>sleep</td>\n",
       "      <td>3.736464</td>\n",
       "      <td>2019-03</td>\n",
       "    </tr>\n",
       "  </tbody>\n",
       "</table>\n",
       "<p>3415 rows × 5 columns</p>\n",
       "</div>"
      ],
      "text/plain": [
       "                                 date  user_id   type     value month_year\n",
       "1    2019-06-13 16:33:34.399000+00:00       26  sleep  2.440000    2019-06\n",
       "2    2018-12-26 14:24:00.436000+00:00       10  sleep  1.880000    2018-12\n",
       "7    2019-03-25 15:19:48.308000+00:00       51  sleep  1.480000    2019-03\n",
       "11   2019-05-24 15:32:00.593000+00:00       49  sleep  2.040000    2019-05\n",
       "14   2019-07-16 18:19:06.953000+00:00       79  sleep  3.360000    2019-07\n",
       "...                               ...      ...    ...       ...        ...\n",
       "7453 2019-05-26 19:50:44.235000+00:00       64  sleep  2.258863    2019-05\n",
       "7456 2019-03-28 16:36:18.190000+00:00       10  sleep  3.080000    2019-03\n",
       "7457 2019-01-11 18:44:05.923000+00:00       33  sleep  4.000000    2019-01\n",
       "7458 2019-04-08 11:55:24.645000+00:00       58  sleep  1.370334    2019-04\n",
       "7459 2019-03-18 14:04:42.114000+00:00       80  sleep  3.736464    2019-03\n",
       "\n",
       "[3415 rows x 5 columns]"
      ]
     },
     "execution_count": 5,
     "metadata": {},
     "output_type": "execute_result"
    }
   ],
   "source": [
    "sleep_df=df.loc[(df['type']=='sleep')]\n",
    "sleep_df"
   ]
  },
  {
   "cell_type": "code",
   "execution_count": 6,
   "metadata": {},
   "outputs": [
    {
     "data": {
      "text/html": [
       "<div>\n",
       "<style scoped>\n",
       "    .dataframe tbody tr th:only-of-type {\n",
       "        vertical-align: middle;\n",
       "    }\n",
       "\n",
       "    .dataframe tbody tr th {\n",
       "        vertical-align: top;\n",
       "    }\n",
       "\n",
       "    .dataframe thead th {\n",
       "        text-align: right;\n",
       "    }\n",
       "</style>\n",
       "<table border=\"1\" class=\"dataframe\">\n",
       "  <thead>\n",
       "    <tr style=\"text-align: right;\">\n",
       "      <th></th>\n",
       "      <th>date</th>\n",
       "      <th>user_id</th>\n",
       "      <th>type</th>\n",
       "      <th>value</th>\n",
       "      <th>month_year</th>\n",
       "    </tr>\n",
       "  </thead>\n",
       "  <tbody>\n",
       "    <tr>\n",
       "      <td>15</td>\n",
       "      <td>2019-04-21 17:14:23.069000+00:00</td>\n",
       "      <td>52</td>\n",
       "      <td>anticipatoryStress</td>\n",
       "      <td>0.000000</td>\n",
       "      <td>2019-04</td>\n",
       "    </tr>\n",
       "    <tr>\n",
       "      <td>16</td>\n",
       "      <td>2018-11-16 15:55:35.608000+00:00</td>\n",
       "      <td>66</td>\n",
       "      <td>anticipatoryStress</td>\n",
       "      <td>3.120000</td>\n",
       "      <td>2018-11</td>\n",
       "    </tr>\n",
       "    <tr>\n",
       "      <td>92</td>\n",
       "      <td>2019-03-14 23:54:04.081000+00:00</td>\n",
       "      <td>33</td>\n",
       "      <td>anticipatoryStress</td>\n",
       "      <td>3.560000</td>\n",
       "      <td>2019-03</td>\n",
       "    </tr>\n",
       "    <tr>\n",
       "      <td>120</td>\n",
       "      <td>2018-10-31 14:58:15.613000+00:00</td>\n",
       "      <td>50</td>\n",
       "      <td>anticipatoryStress</td>\n",
       "      <td>1.577619</td>\n",
       "      <td>2018-10</td>\n",
       "    </tr>\n",
       "    <tr>\n",
       "      <td>142</td>\n",
       "      <td>2018-11-25 20:19:44.827000+00:00</td>\n",
       "      <td>72</td>\n",
       "      <td>anticipatoryStress</td>\n",
       "      <td>2.000000</td>\n",
       "      <td>2018-11</td>\n",
       "    </tr>\n",
       "    <tr>\n",
       "      <td>...</td>\n",
       "      <td>...</td>\n",
       "      <td>...</td>\n",
       "      <td>...</td>\n",
       "      <td>...</td>\n",
       "      <td>...</td>\n",
       "    </tr>\n",
       "    <tr>\n",
       "      <td>7382</td>\n",
       "      <td>2018-12-07 18:40:15.905000+00:00</td>\n",
       "      <td>33</td>\n",
       "      <td>anticipatoryStress</td>\n",
       "      <td>3.680000</td>\n",
       "      <td>2018-12</td>\n",
       "    </tr>\n",
       "    <tr>\n",
       "      <td>7389</td>\n",
       "      <td>2018-09-26 02:22:33.094000+00:00</td>\n",
       "      <td>48</td>\n",
       "      <td>anticipatoryStress</td>\n",
       "      <td>2.200344</td>\n",
       "      <td>2018-09</td>\n",
       "    </tr>\n",
       "    <tr>\n",
       "      <td>7397</td>\n",
       "      <td>2018-10-20 15:29:49.937000+00:00</td>\n",
       "      <td>66</td>\n",
       "      <td>anticipatoryStress</td>\n",
       "      <td>3.880000</td>\n",
       "      <td>2018-10</td>\n",
       "    </tr>\n",
       "    <tr>\n",
       "      <td>7416</td>\n",
       "      <td>2018-11-09 22:32:59.708000+00:00</td>\n",
       "      <td>86</td>\n",
       "      <td>anticipatoryStress</td>\n",
       "      <td>3.455981</td>\n",
       "      <td>2018-11</td>\n",
       "    </tr>\n",
       "    <tr>\n",
       "      <td>7454</td>\n",
       "      <td>2018-10-08 16:05:26.907000+00:00</td>\n",
       "      <td>1</td>\n",
       "      <td>anticipatoryStress</td>\n",
       "      <td>2.120000</td>\n",
       "      <td>2018-10</td>\n",
       "    </tr>\n",
       "  </tbody>\n",
       "</table>\n",
       "<p>332 rows × 5 columns</p>\n",
       "</div>"
      ],
      "text/plain": [
       "                                 date  user_id                type     value  \\\n",
       "15   2019-04-21 17:14:23.069000+00:00       52  anticipatoryStress  0.000000   \n",
       "16   2018-11-16 15:55:35.608000+00:00       66  anticipatoryStress  3.120000   \n",
       "92   2019-03-14 23:54:04.081000+00:00       33  anticipatoryStress  3.560000   \n",
       "120  2018-10-31 14:58:15.613000+00:00       50  anticipatoryStress  1.577619   \n",
       "142  2018-11-25 20:19:44.827000+00:00       72  anticipatoryStress  2.000000   \n",
       "...                               ...      ...                 ...       ...   \n",
       "7382 2018-12-07 18:40:15.905000+00:00       33  anticipatoryStress  3.680000   \n",
       "7389 2018-09-26 02:22:33.094000+00:00       48  anticipatoryStress  2.200344   \n",
       "7397 2018-10-20 15:29:49.937000+00:00       66  anticipatoryStress  3.880000   \n",
       "7416 2018-11-09 22:32:59.708000+00:00       86  anticipatoryStress  3.455981   \n",
       "7454 2018-10-08 16:05:26.907000+00:00        1  anticipatoryStress  2.120000   \n",
       "\n",
       "     month_year  \n",
       "15      2019-04  \n",
       "16      2018-11  \n",
       "92      2019-03  \n",
       "120     2018-10  \n",
       "142     2018-11  \n",
       "...         ...  \n",
       "7382    2018-12  \n",
       "7389    2018-09  \n",
       "7397    2018-10  \n",
       "7416    2018-11  \n",
       "7454    2018-10  \n",
       "\n",
       "[332 rows x 5 columns]"
      ]
     },
     "execution_count": 6,
     "metadata": {},
     "output_type": "execute_result"
    }
   ],
   "source": [
    "antStress_df=df.loc[(df['type']=='anticipatoryStress')]\n",
    "antStress_df"
   ]
  },
  {
   "cell_type": "code",
   "execution_count": 7,
   "metadata": {},
   "outputs": [
    {
     "data": {
      "text/html": [
       "<div>\n",
       "<style scoped>\n",
       "    .dataframe tbody tr th:only-of-type {\n",
       "        vertical-align: middle;\n",
       "    }\n",
       "\n",
       "    .dataframe tbody tr th {\n",
       "        vertical-align: top;\n",
       "    }\n",
       "\n",
       "    .dataframe thead th {\n",
       "        text-align: right;\n",
       "    }\n",
       "</style>\n",
       "<table border=\"1\" class=\"dataframe\">\n",
       "  <thead>\n",
       "    <tr style=\"text-align: right;\">\n",
       "      <th></th>\n",
       "      <th>date</th>\n",
       "      <th>user_id</th>\n",
       "      <th>type</th>\n",
       "      <th>value</th>\n",
       "      <th>month_year</th>\n",
       "    </tr>\n",
       "  </thead>\n",
       "  <tbody>\n",
       "    <tr>\n",
       "      <td>27</td>\n",
       "      <td>2018-12-02 14:35:07.122000+00:00</td>\n",
       "      <td>59</td>\n",
       "      <td>ruminationStress</td>\n",
       "      <td>0.360000</td>\n",
       "      <td>2018-12</td>\n",
       "    </tr>\n",
       "    <tr>\n",
       "      <td>34</td>\n",
       "      <td>2019-06-05 12:23:14.004000+00:00</td>\n",
       "      <td>54</td>\n",
       "      <td>ruminationStress</td>\n",
       "      <td>1.440000</td>\n",
       "      <td>2019-06</td>\n",
       "    </tr>\n",
       "    <tr>\n",
       "      <td>46</td>\n",
       "      <td>2018-10-29 14:57:36.118000+00:00</td>\n",
       "      <td>30</td>\n",
       "      <td>ruminationStress</td>\n",
       "      <td>2.000000</td>\n",
       "      <td>2018-10</td>\n",
       "    </tr>\n",
       "    <tr>\n",
       "      <td>117</td>\n",
       "      <td>2019-06-27 22:34:32.319000+00:00</td>\n",
       "      <td>60</td>\n",
       "      <td>ruminationStress</td>\n",
       "      <td>2.509821</td>\n",
       "      <td>2019-06</td>\n",
       "    </tr>\n",
       "    <tr>\n",
       "      <td>139</td>\n",
       "      <td>2019-04-18 20:10:53.712000+00:00</td>\n",
       "      <td>66</td>\n",
       "      <td>ruminationStress</td>\n",
       "      <td>1.164269</td>\n",
       "      <td>2019-04</td>\n",
       "    </tr>\n",
       "    <tr>\n",
       "      <td>...</td>\n",
       "      <td>...</td>\n",
       "      <td>...</td>\n",
       "      <td>...</td>\n",
       "      <td>...</td>\n",
       "      <td>...</td>\n",
       "    </tr>\n",
       "    <tr>\n",
       "      <td>7385</td>\n",
       "      <td>2019-01-02 01:30:05.838000+00:00</td>\n",
       "      <td>66</td>\n",
       "      <td>ruminationStress</td>\n",
       "      <td>2.760000</td>\n",
       "      <td>2019-01</td>\n",
       "    </tr>\n",
       "    <tr>\n",
       "      <td>7391</td>\n",
       "      <td>2019-07-05 12:50:39.202000+00:00</td>\n",
       "      <td>50</td>\n",
       "      <td>ruminationStress</td>\n",
       "      <td>3.126332</td>\n",
       "      <td>2019-07</td>\n",
       "    </tr>\n",
       "    <tr>\n",
       "      <td>7409</td>\n",
       "      <td>2018-11-05 21:14:59.025000+00:00</td>\n",
       "      <td>33</td>\n",
       "      <td>ruminationStress</td>\n",
       "      <td>3.080000</td>\n",
       "      <td>2018-11</td>\n",
       "    </tr>\n",
       "    <tr>\n",
       "      <td>7412</td>\n",
       "      <td>2018-11-04 23:30:26.460000+00:00</td>\n",
       "      <td>22</td>\n",
       "      <td>ruminationStress</td>\n",
       "      <td>0.560000</td>\n",
       "      <td>2018-11</td>\n",
       "    </tr>\n",
       "    <tr>\n",
       "      <td>7442</td>\n",
       "      <td>2019-01-02 02:20:13.867000+00:00</td>\n",
       "      <td>30</td>\n",
       "      <td>ruminationStress</td>\n",
       "      <td>2.360000</td>\n",
       "      <td>2019-01</td>\n",
       "    </tr>\n",
       "  </tbody>\n",
       "</table>\n",
       "<p>316 rows × 5 columns</p>\n",
       "</div>"
      ],
      "text/plain": [
       "                                 date  user_id              type     value  \\\n",
       "27   2018-12-02 14:35:07.122000+00:00       59  ruminationStress  0.360000   \n",
       "34   2019-06-05 12:23:14.004000+00:00       54  ruminationStress  1.440000   \n",
       "46   2018-10-29 14:57:36.118000+00:00       30  ruminationStress  2.000000   \n",
       "117  2019-06-27 22:34:32.319000+00:00       60  ruminationStress  2.509821   \n",
       "139  2019-04-18 20:10:53.712000+00:00       66  ruminationStress  1.164269   \n",
       "...                               ...      ...               ...       ...   \n",
       "7385 2019-01-02 01:30:05.838000+00:00       66  ruminationStress  2.760000   \n",
       "7391 2019-07-05 12:50:39.202000+00:00       50  ruminationStress  3.126332   \n",
       "7409 2018-11-05 21:14:59.025000+00:00       33  ruminationStress  3.080000   \n",
       "7412 2018-11-04 23:30:26.460000+00:00       22  ruminationStress  0.560000   \n",
       "7442 2019-01-02 02:20:13.867000+00:00       30  ruminationStress  2.360000   \n",
       "\n",
       "     month_year  \n",
       "27      2018-12  \n",
       "34      2019-06  \n",
       "46      2018-10  \n",
       "117     2019-06  \n",
       "139     2019-04  \n",
       "...         ...  \n",
       "7385    2019-01  \n",
       "7391    2019-07  \n",
       "7409    2018-11  \n",
       "7412    2018-11  \n",
       "7442    2019-01  \n",
       "\n",
       "[316 rows x 5 columns]"
      ]
     },
     "execution_count": 7,
     "metadata": {},
     "output_type": "execute_result"
    }
   ],
   "source": [
    "rumStress_df=df.loc[(df['type']=='ruminationStress')]\n",
    "rumStress_df"
   ]
  },
  {
   "cell_type": "code",
   "execution_count": 8,
   "metadata": {},
   "outputs": [
    {
     "data": {
      "image/png": "[encoded data removed]",
      "text/plain": [
       "<Figure size 432x288 with 1 Axes>"
      ]
     },
     "metadata": {
      "needs_background": "light"
     },
     "output_type": "display_data"
    }
   ],
   "source": [
    "bin_edges=[0,.5,1,1.5,2,2.5,3,3.5,4]\n",
    "plt.hist(x=(mood_df['value'], sleep_df['value'], rumStress_df['value'], antStress_df['value']), bins=bin_edges, align='right', label=[\"mood\", \"sleep\", \"rumination stress\", \"anticipatory stress\"])\n",
    "plt.xlabel('scores')\n",
    "plt.ylabel('Frequency')\n",
    "plt.title('Score Values Histogram for All Categories')\n",
    "plt.subplots_adjust(left=0.15)\n",
    "plt.legend()\n",
    "plt.show()"
   ]
  },
  {
   "cell_type": "code",
   "execution_count": 9,
   "metadata": {},
   "outputs": [
    {
     "data": {
      "image/png": "[encoded data removed]",
      "text/plain": [
       "<Figure size 432x288 with 1 Axes>"
      ]
     },
     "metadata": {
      "needs_background": "light"
     },
     "output_type": "display_data"
    }
   ],
   "source": [
    "bin_edges=[0,.5,1,1.5,2,2.5,3,3.5,4]\n",
    "plt.hist([mood_df['value']], bins=bin_edges, align='right', facecolor='blue')\n",
    "plt.xlabel('scores')\n",
    "plt.ylabel('Frequency')\n",
    "plt.title('Distribution of Scores for Mood')\n",
    "plt.subplots_adjust(left=0.15)\n",
    "plt.show()"
   ]
  },
  {
   "cell_type": "code",
   "execution_count": 10,
   "metadata": {},
   "outputs": [
    {
     "data": {
      "image/png": "[encoded data removed]",
      "text/plain": [
       "<Figure size 432x288 with 1 Axes>"
      ]
     },
     "metadata": {
      "needs_background": "light"
     },
     "output_type": "display_data"
    }
   ],
   "source": [
    "bin_edges=[0,.5,1,1.5,2,2.5,3,3.5,4]\n",
    "plt.hist([sleep_df['value']], bins=bin_edges, align='right', facecolor='orange')\n",
    "plt.xlabel('scores')\n",
    "plt.ylabel('Frequency')\n",
    "plt.title('Distribution of Scores for Sleep')\n",
    "plt.subplots_adjust(left=0.15)\n",
    "plt.show()"
   ]
  },
  {
   "cell_type": "code",
   "execution_count": 11,
   "metadata": {},
   "outputs": [
    {
     "data": {
      "image/png": "[encoded data removed]",
      "text/plain": [
       "<Figure size 432x288 with 1 Axes>"
      ]
     },
     "metadata": {
      "needs_background": "light"
     },
     "output_type": "display_data"
    }
   ],
   "source": [
    "bin_edges=[0,.5,1,1.5,2,2.5,3,3.5,4]\n",
    "plt.hist([rumStress_df['value']], bins=bin_edges, align='right', facecolor='green')\n",
    "plt.xlabel('scores')\n",
    "plt.ylabel('Frequency')\n",
    "plt.title('Distribution of Scores for Rumination Stress')\n",
    "plt.subplots_adjust(left=0.15)\n",
    "plt.show()"
   ]
  },
  {
   "cell_type": "code",
   "execution_count": 12,
   "metadata": {},
   "outputs": [
    {
     "data": {
      "image/png": "[encoded data removed]",
      "text/plain": [
       "<Figure size 432x288 with 1 Axes>"
      ]
     },
     "metadata": {
      "needs_background": "light"
     },
     "output_type": "display_data"
    }
   ],
   "source": [
    "bin_edges=[0,.5,1,1.5,2,2.5,3,3.5,4]\n",
    "plt.hist([antStress_df['value']], bins=bin_edges, align='right', facecolor='red')\n",
    "plt.xlabel('scores')\n",
    "plt.ylabel('Frequency')\n",
    "plt.title('Distribution of Scores for Anticipatory Stress')\n",
    "plt.subplots_adjust(left=0.15)\n",
    "plt.show()"
   ]
  },
  {
   "cell_type": "code",
   "execution_count": 35,
   "metadata": {
    "scrolled": true
   },
   "outputs": [
    {
     "data": {
      "image/png": "[encoded data removed]",
      "text/plain": [
       "<Figure size 432x288 with 1 Axes>"
      ]
     },
     "metadata": {
      "needs_background": "light"
     },
     "output_type": "display_data"
    }
   ],
   "source": [
    "plt.plot=mood_df.groupby('month_year').count()['value'].plot(kind='line', label=\"mood\")\n",
    "plt.plot=sleep_df.groupby('month_year').count()['value'].plot(kind='line', label=\"sleep\")\n",
    "plt.plot=rumStress_df.groupby('month_year').count()['value'].plot(kind='line', label=\"rumination stress\")\n",
    "plt.plot=antStress_df.groupby('month_year').count()['value'].plot(kind='line', label=\"anticipatory stress\")\n",
    "plt.yticks(np.arange(0,500, 25.0))\n",
    "plt.ylabel('Count')\n",
    "plt.xlabel('Month')\n",
    "plt.title('Total Count of Category Entries per Month')\n",
    "plt.legend();"
   ]
  },
  {
   "cell_type": "code",
   "execution_count": 26,
   "metadata": {},
   "outputs": [
    {
     "data": {
      "image/png": "[encoded data removed]",
      "text/plain": [
       "<Figure size 432x288 with 1 Axes>"
      ]
     },
     "metadata": {
      "needs_background": "light"
     },
     "output_type": "display_data"
    }
   ],
   "source": [
    "plt.plot=mood_df.groupby('month_year').mean()['value'].plot(kind='line', label=\"mood\")\n",
    "plt.plot=sleep_df.groupby('month_year').mean()['value'].plot(kind='line', label=\"sleep\")\n",
    "plt.plot=rumStress_df.groupby('month_year').mean()['value'].plot(kind='line', label=\"rumination stress\")\n",
    "plt.plot=antStress_df.groupby('month_year').mean()['value'].plot(kind='line', label=\"anticipatory stress\")\n",
    "plt.yticks(np.arange(1.5,4.0, .2))\n",
    "plt.ylabel('Average score')\n",
    "plt.xlabel('Month')\n",
    "plt.title('Average Scores per Month')\n",
    "plt.legend();"
   ]
  },
  {
   "cell_type": "code",
   "execution_count": 15,
   "metadata": {},
   "outputs": [
    {
     "data": {
      "text/plain": [
       "month_year  type              \n",
       "2018-08     anticipatoryStress    2.409512\n",
       "            mood                  1.943739\n",
       "            ruminationStress      3.360000\n",
       "            sleep                 3.025425\n",
       "2018-09     anticipatoryStress    2.616830\n",
       "Name: value, dtype: float64"
      ]
     },
     "execution_count": 15,
     "metadata": {},
     "output_type": "execute_result"
    }
   ],
   "source": [
    "avg_monthly_vals=df.groupby(['month_year', 'type'])['value'].mean()\n",
    "avg_monthly_vals.head()"
   ]
  },
  {
   "cell_type": "code",
   "execution_count": 16,
   "metadata": {},
   "outputs": [
    {
     "data": {
      "text/plain": [
       "month_year  type              \n",
       "2018-08     anticipatoryStress     1\n",
       "            mood                   8\n",
       "            ruminationStress       1\n",
       "            sleep                  3\n",
       "2018-09     anticipatoryStress    16\n",
       "Name: value, dtype: int64"
      ]
     },
     "execution_count": 16,
     "metadata": {},
     "output_type": "execute_result"
    }
   ],
   "source": [
    "tot_monthly_vals=df.groupby(['month_year', 'type'])['value'].count()\n",
    "tot_monthly_vals.head()"
   ]
  },
  {
   "cell_type": "code",
   "execution_count": 17,
   "metadata": {},
   "outputs": [
    {
     "data": {
      "text/plain": [
       "month_year  type              \n",
       "2018-08     anticipatoryStress     2.409512\n",
       "            mood                  15.549911\n",
       "            ruminationStress       3.360000\n",
       "            sleep                  9.076275\n",
       "2018-09     anticipatoryStress    41.869279\n",
       "Name: value, dtype: float64"
      ]
     },
     "execution_count": 17,
     "metadata": {},
     "output_type": "execute_result"
    }
   ],
   "source": [
    "sum_monthly_vals=df.groupby(['month_year','type']).sum()['value']\n",
    "sum_monthly_vals.head()"
   ]
  },
  {
   "cell_type": "code",
   "execution_count": 33,
   "metadata": {},
   "outputs": [
    {
     "data": {
      "image/png": "[encoded data removed]",
      "text/plain": [
       "<Figure size 432x288 with 1 Axes>"
      ]
     },
     "metadata": {
      "needs_background": "light"
     },
     "output_type": "display_data"
    }
   ],
   "source": [
    "total_vals=df.groupby('type').count()['value']\n",
    "types=total_vals.keys()\n",
    "vals=total_vals.to_numpy()\n",
    "x=list(range(len(total_vals)))\n",
    "plt.xticks(x,types,rotation=80)\n",
    "plt.bar(x, vals)\n",
    "plt.yticks(np.arange(0,4000, 250.0))\n",
    "plt.ylabel('Count')\n",
    "plt.xlabel('Category')\n",
    "plt.title('Total Count of Entries per Category')\n",
    "plt.grid()\n"
   ]
  },
  {
   "cell_type": "code",
   "execution_count": null,
   "metadata": {},
   "outputs": [],
   "source": []
  }
 ],
 "metadata": {
  "kernelspec": {
   "display_name": "Python 3",
   "language": "python",
   "name": "python3"
  },
  "language_info": {
   "codemirror_mode": {
    "name": "ipython",
    "version": 3
   },
   "file_extension": ".py",
   "mimetype": "text/x-python",
   "name": "python",
   "nbconvert_exporter": "python",
   "pygments_lexer": "ipython3",
   "version": "3.7.4"
  }
 },
 "nbformat": 4,
 "nbformat_minor": 2
}
